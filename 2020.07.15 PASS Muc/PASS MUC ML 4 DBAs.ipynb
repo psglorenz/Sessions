{
 "cells": [
  {
   "cell_type": "markdown",
   "metadata": {},
   "source": [
    "# PASS 2020 Munich - ML for DBAs"
   ]
  },
  {
   "cell_type": "markdown",
   "metadata": {},
   "source": [
    "### Anomaly Detection, easy way...\n",
    "\n",
    "Sascha Lorenz, PSG Projekt Service GmbH, Hamburg\n",
    "lorenz@psg.de"
   ]
  },
  {
   "cell_type": "markdown",
   "metadata": {},
   "source": [
    "#### We start simple.\n",
    "For the moment we only import pandas & numpy. "
   ]
  },
  {
   "cell_type": "code",
   "execution_count": 1,
   "metadata": {},
   "outputs": [],
   "source": [
    "import pandas as pd\n",
    "import numpy as np"
   ]
  },
  {
   "cell_type": "markdown",
   "metadata": {},
   "source": [
    "We now prefer json files as data source. \n",
    "__I guess it's a matter of taste.__ Our tool pipeline produces json files very easily."
   ]
  },
  {
   "cell_type": "code",
   "execution_count": 2,
   "metadata": {},
   "outputs": [],
   "source": [
    "df = pd.read_json('json_test.json')"
   ]
  },
  {
   "cell_type": "markdown",
   "metadata": {},
   "source": [
    "Quick check on what we loaded there."
   ]
  },
  {
   "cell_type": "code",
   "execution_count": 3,
   "metadata": {},
   "outputs": [
    {
     "data": {
      "text/html": [
       "<div>\n",
       "<style scoped>\n",
       "    .dataframe tbody tr th:only-of-type {\n",
       "        vertical-align: middle;\n",
       "    }\n",
       "\n",
       "    .dataframe tbody tr th {\n",
       "        vertical-align: top;\n",
       "    }\n",
       "\n",
       "    .dataframe thead th {\n",
       "        text-align: right;\n",
       "    }\n",
       "</style>\n",
       "<table border=\"1\" class=\"dataframe\">\n",
       "  <thead>\n",
       "    <tr style=\"text-align: right;\">\n",
       "      <th></th>\n",
       "      <th>ts</th>\n",
       "      <th>uts</th>\n",
       "      <th>v</th>\n",
       "    </tr>\n",
       "  </thead>\n",
       "  <tbody>\n",
       "    <tr>\n",
       "      <th>0</th>\n",
       "      <td>2020-06-25T12:30:23+02:00</td>\n",
       "      <td>1593081023</td>\n",
       "      <td>27</td>\n",
       "    </tr>\n",
       "    <tr>\n",
       "      <th>1</th>\n",
       "      <td>2020-06-25T12:30:38+02:00</td>\n",
       "      <td>1593081038</td>\n",
       "      <td>36</td>\n",
       "    </tr>\n",
       "    <tr>\n",
       "      <th>2</th>\n",
       "      <td>2020-06-25T12:31:07+02:00</td>\n",
       "      <td>1593081067</td>\n",
       "      <td>11</td>\n",
       "    </tr>\n",
       "    <tr>\n",
       "      <th>3</th>\n",
       "      <td>2020-06-25T12:31:52+02:00</td>\n",
       "      <td>1593081112</td>\n",
       "      <td>12</td>\n",
       "    </tr>\n",
       "    <tr>\n",
       "      <th>4</th>\n",
       "      <td>2020-06-25T12:32:22+02:00</td>\n",
       "      <td>1593081142</td>\n",
       "      <td>3</td>\n",
       "    </tr>\n",
       "    <tr>\n",
       "      <th>5</th>\n",
       "      <td>2020-06-25T12:33:07+02:00</td>\n",
       "      <td>1593081187</td>\n",
       "      <td>3</td>\n",
       "    </tr>\n",
       "    <tr>\n",
       "      <th>6</th>\n",
       "      <td>2020-06-25T12:33:52+02:00</td>\n",
       "      <td>1593081232</td>\n",
       "      <td>20</td>\n",
       "    </tr>\n",
       "    <tr>\n",
       "      <th>7</th>\n",
       "      <td>2020-06-25T12:34:38+02:00</td>\n",
       "      <td>1593081278</td>\n",
       "      <td>4</td>\n",
       "    </tr>\n",
       "    <tr>\n",
       "      <th>8</th>\n",
       "      <td>2020-06-25T12:34:53+02:00</td>\n",
       "      <td>1593081293</td>\n",
       "      <td>60</td>\n",
       "    </tr>\n",
       "    <tr>\n",
       "      <th>9</th>\n",
       "      <td>2020-06-25T12:35:53+02:00</td>\n",
       "      <td>1593081353</td>\n",
       "      <td>48</td>\n",
       "    </tr>\n",
       "    <tr>\n",
       "      <th>10</th>\n",
       "      <td>2020-06-25T12:36:08+02:00</td>\n",
       "      <td>1593081368</td>\n",
       "      <td>27</td>\n",
       "    </tr>\n",
       "    <tr>\n",
       "      <th>11</th>\n",
       "      <td>2020-06-25T12:36:53+02:00</td>\n",
       "      <td>1593081413</td>\n",
       "      <td>24</td>\n",
       "    </tr>\n",
       "    <tr>\n",
       "      <th>12</th>\n",
       "      <td>2020-06-25T12:37:22+02:00</td>\n",
       "      <td>1593081442</td>\n",
       "      <td>6</td>\n",
       "    </tr>\n",
       "    <tr>\n",
       "      <th>13</th>\n",
       "      <td>2020-06-25T12:38:23+02:00</td>\n",
       "      <td>1593081503</td>\n",
       "      <td>22</td>\n",
       "    </tr>\n",
       "    <tr>\n",
       "      <th>14</th>\n",
       "      <td>2020-06-25T12:38:53+02:00</td>\n",
       "      <td>1593081533</td>\n",
       "      <td>22</td>\n",
       "    </tr>\n",
       "    <tr>\n",
       "      <th>15</th>\n",
       "      <td>2020-06-25T12:39:38+02:00</td>\n",
       "      <td>1593081578</td>\n",
       "      <td>12</td>\n",
       "    </tr>\n",
       "    <tr>\n",
       "      <th>16</th>\n",
       "      <td>2020-06-25T12:39:54+02:00</td>\n",
       "      <td>1593081594</td>\n",
       "      <td>83</td>\n",
       "    </tr>\n",
       "    <tr>\n",
       "      <th>17</th>\n",
       "      <td>2020-06-25T12:40:38+02:00</td>\n",
       "      <td>1593081638</td>\n",
       "      <td>19</td>\n",
       "    </tr>\n",
       "    <tr>\n",
       "      <th>18</th>\n",
       "      <td>2020-06-25T12:41:08+02:00</td>\n",
       "      <td>1593081668</td>\n",
       "      <td>66</td>\n",
       "    </tr>\n",
       "    <tr>\n",
       "      <th>19</th>\n",
       "      <td>2020-06-25T12:41:53+02:00</td>\n",
       "      <td>1593081713</td>\n",
       "      <td>17</td>\n",
       "    </tr>\n",
       "    <tr>\n",
       "      <th>20</th>\n",
       "      <td>2020-06-25T12:42:53+02:00</td>\n",
       "      <td>1593081773</td>\n",
       "      <td>58</td>\n",
       "    </tr>\n",
       "    <tr>\n",
       "      <th>21</th>\n",
       "      <td>2020-06-25T12:43:22+02:00</td>\n",
       "      <td>1593081802</td>\n",
       "      <td>10</td>\n",
       "    </tr>\n",
       "    <tr>\n",
       "      <th>22</th>\n",
       "      <td>2020-06-25T12:43:54+02:00</td>\n",
       "      <td>1593081834</td>\n",
       "      <td>69</td>\n",
       "    </tr>\n",
       "    <tr>\n",
       "      <th>23</th>\n",
       "      <td>2020-06-25T12:44:25+02:00</td>\n",
       "      <td>1593081865</td>\n",
       "      <td>21</td>\n",
       "    </tr>\n",
       "    <tr>\n",
       "      <th>24</th>\n",
       "      <td>2020-06-25T12:45:09+02:00</td>\n",
       "      <td>1593081909</td>\n",
       "      <td>40</td>\n",
       "    </tr>\n",
       "    <tr>\n",
       "      <th>25</th>\n",
       "      <td>2020-06-25T12:45:53+02:00</td>\n",
       "      <td>1593081953</td>\n",
       "      <td>35</td>\n",
       "    </tr>\n",
       "    <tr>\n",
       "      <th>26</th>\n",
       "      <td>2020-06-25T12:46:39+02:00</td>\n",
       "      <td>1593081999</td>\n",
       "      <td>47</td>\n",
       "    </tr>\n",
       "    <tr>\n",
       "      <th>27</th>\n",
       "      <td>2020-06-25T12:46:54+02:00</td>\n",
       "      <td>1593082014</td>\n",
       "      <td>53</td>\n",
       "    </tr>\n",
       "    <tr>\n",
       "      <th>28</th>\n",
       "      <td>2020-06-25T12:47:38+02:00</td>\n",
       "      <td>1593082058</td>\n",
       "      <td>12</td>\n",
       "    </tr>\n",
       "    <tr>\n",
       "      <th>29</th>\n",
       "      <td>2020-06-25T12:48:08+02:00</td>\n",
       "      <td>1593082088</td>\n",
       "      <td>8</td>\n",
       "    </tr>\n",
       "    <tr>\n",
       "      <th>...</th>\n",
       "      <td>...</td>\n",
       "      <td>...</td>\n",
       "      <td>...</td>\n",
       "    </tr>\n",
       "    <tr>\n",
       "      <th>24970</th>\n",
       "      <td>2020-07-06T10:11:59+02:00</td>\n",
       "      <td>1594023119</td>\n",
       "      <td>26</td>\n",
       "    </tr>\n",
       "    <tr>\n",
       "      <th>24971</th>\n",
       "      <td>2020-07-06T10:12:44+02:00</td>\n",
       "      <td>1594023164</td>\n",
       "      <td>6</td>\n",
       "    </tr>\n",
       "    <tr>\n",
       "      <th>24972</th>\n",
       "      <td>2020-07-06T10:13:15+02:00</td>\n",
       "      <td>1594023195</td>\n",
       "      <td>75</td>\n",
       "    </tr>\n",
       "    <tr>\n",
       "      <th>24973</th>\n",
       "      <td>2020-07-06T10:13:30+02:00</td>\n",
       "      <td>1594023210</td>\n",
       "      <td>22</td>\n",
       "    </tr>\n",
       "    <tr>\n",
       "      <th>24974</th>\n",
       "      <td>2020-07-06T10:14:29+02:00</td>\n",
       "      <td>1594023269</td>\n",
       "      <td>60</td>\n",
       "    </tr>\n",
       "    <tr>\n",
       "      <th>24975</th>\n",
       "      <td>2020-07-06T10:15:02+02:00</td>\n",
       "      <td>1594023302</td>\n",
       "      <td>69</td>\n",
       "    </tr>\n",
       "    <tr>\n",
       "      <th>24976</th>\n",
       "      <td>2020-07-06T10:15:29+02:00</td>\n",
       "      <td>1594023329</td>\n",
       "      <td>29</td>\n",
       "    </tr>\n",
       "    <tr>\n",
       "      <th>24977</th>\n",
       "      <td>2020-07-06T10:16:30+02:00</td>\n",
       "      <td>1594023390</td>\n",
       "      <td>57</td>\n",
       "    </tr>\n",
       "    <tr>\n",
       "      <th>24978</th>\n",
       "      <td>2020-07-06T10:16:45+02:00</td>\n",
       "      <td>1594023405</td>\n",
       "      <td>35</td>\n",
       "    </tr>\n",
       "    <tr>\n",
       "      <th>24979</th>\n",
       "      <td>2020-07-06T10:17:14+02:00</td>\n",
       "      <td>1594023434</td>\n",
       "      <td>11</td>\n",
       "    </tr>\n",
       "    <tr>\n",
       "      <th>24980</th>\n",
       "      <td>2020-07-06T10:18:14+02:00</td>\n",
       "      <td>1594023494</td>\n",
       "      <td>17</td>\n",
       "    </tr>\n",
       "    <tr>\n",
       "      <th>24981</th>\n",
       "      <td>2020-07-06T10:18:59+02:00</td>\n",
       "      <td>1594023539</td>\n",
       "      <td>4</td>\n",
       "    </tr>\n",
       "    <tr>\n",
       "      <th>24982</th>\n",
       "      <td>2020-07-06T10:19:14+02:00</td>\n",
       "      <td>1594023554</td>\n",
       "      <td>7</td>\n",
       "    </tr>\n",
       "    <tr>\n",
       "      <th>24983</th>\n",
       "      <td>2020-07-06T10:20:14+02:00</td>\n",
       "      <td>1594023614</td>\n",
       "      <td>5</td>\n",
       "    </tr>\n",
       "    <tr>\n",
       "      <th>24984</th>\n",
       "      <td>2020-07-06T10:20:45+02:00</td>\n",
       "      <td>1594023645</td>\n",
       "      <td>28</td>\n",
       "    </tr>\n",
       "    <tr>\n",
       "      <th>24985</th>\n",
       "      <td>2020-07-06T10:21:30+02:00</td>\n",
       "      <td>1594023690</td>\n",
       "      <td>28</td>\n",
       "    </tr>\n",
       "    <tr>\n",
       "      <th>24986</th>\n",
       "      <td>2020-07-06T10:21:44+02:00</td>\n",
       "      <td>1594023704</td>\n",
       "      <td>3</td>\n",
       "    </tr>\n",
       "    <tr>\n",
       "      <th>24987</th>\n",
       "      <td>2020-07-06T10:22:44+02:00</td>\n",
       "      <td>1594023764</td>\n",
       "      <td>4</td>\n",
       "    </tr>\n",
       "    <tr>\n",
       "      <th>24988</th>\n",
       "      <td>2020-07-06T10:23:15+02:00</td>\n",
       "      <td>1594023795</td>\n",
       "      <td>13</td>\n",
       "    </tr>\n",
       "    <tr>\n",
       "      <th>24989</th>\n",
       "      <td>2020-07-06T10:23:45+02:00</td>\n",
       "      <td>1594023825</td>\n",
       "      <td>62</td>\n",
       "    </tr>\n",
       "    <tr>\n",
       "      <th>24990</th>\n",
       "      <td>2020-07-06T10:24:29+02:00</td>\n",
       "      <td>1594023869</td>\n",
       "      <td>5</td>\n",
       "    </tr>\n",
       "    <tr>\n",
       "      <th>24991</th>\n",
       "      <td>2020-07-06T10:25:15+02:00</td>\n",
       "      <td>1594023915</td>\n",
       "      <td>83</td>\n",
       "    </tr>\n",
       "    <tr>\n",
       "      <th>24992</th>\n",
       "      <td>2020-07-06T10:25:30+02:00</td>\n",
       "      <td>1594023930</td>\n",
       "      <td>40</td>\n",
       "    </tr>\n",
       "    <tr>\n",
       "      <th>24993</th>\n",
       "      <td>2020-07-06T10:26:00+02:00</td>\n",
       "      <td>1594023960</td>\n",
       "      <td>48</td>\n",
       "    </tr>\n",
       "    <tr>\n",
       "      <th>24994</th>\n",
       "      <td>2020-07-06T10:26:45+02:00</td>\n",
       "      <td>1594024005</td>\n",
       "      <td>30</td>\n",
       "    </tr>\n",
       "    <tr>\n",
       "      <th>24995</th>\n",
       "      <td>2020-07-06T10:27:15+02:00</td>\n",
       "      <td>1594024035</td>\n",
       "      <td>68</td>\n",
       "    </tr>\n",
       "    <tr>\n",
       "      <th>24996</th>\n",
       "      <td>2020-07-06T10:28:15+02:00</td>\n",
       "      <td>1594024095</td>\n",
       "      <td>46</td>\n",
       "    </tr>\n",
       "    <tr>\n",
       "      <th>24997</th>\n",
       "      <td>2020-07-06T10:28:44+02:00</td>\n",
       "      <td>1594024124</td>\n",
       "      <td>5</td>\n",
       "    </tr>\n",
       "    <tr>\n",
       "      <th>24998</th>\n",
       "      <td>2020-07-06T10:29:14+02:00</td>\n",
       "      <td>1594024154</td>\n",
       "      <td>16</td>\n",
       "    </tr>\n",
       "    <tr>\n",
       "      <th>24999</th>\n",
       "      <td>2020-07-06T10:29:59+02:00</td>\n",
       "      <td>1594024199</td>\n",
       "      <td>15</td>\n",
       "    </tr>\n",
       "  </tbody>\n",
       "</table>\n",
       "<p>25000 rows × 3 columns</p>\n",
       "</div>"
      ],
      "text/plain": [
       "                              ts         uts   v\n",
       "0      2020-06-25T12:30:23+02:00  1593081023  27\n",
       "1      2020-06-25T12:30:38+02:00  1593081038  36\n",
       "2      2020-06-25T12:31:07+02:00  1593081067  11\n",
       "3      2020-06-25T12:31:52+02:00  1593081112  12\n",
       "4      2020-06-25T12:32:22+02:00  1593081142   3\n",
       "5      2020-06-25T12:33:07+02:00  1593081187   3\n",
       "6      2020-06-25T12:33:52+02:00  1593081232  20\n",
       "7      2020-06-25T12:34:38+02:00  1593081278   4\n",
       "8      2020-06-25T12:34:53+02:00  1593081293  60\n",
       "9      2020-06-25T12:35:53+02:00  1593081353  48\n",
       "10     2020-06-25T12:36:08+02:00  1593081368  27\n",
       "11     2020-06-25T12:36:53+02:00  1593081413  24\n",
       "12     2020-06-25T12:37:22+02:00  1593081442   6\n",
       "13     2020-06-25T12:38:23+02:00  1593081503  22\n",
       "14     2020-06-25T12:38:53+02:00  1593081533  22\n",
       "15     2020-06-25T12:39:38+02:00  1593081578  12\n",
       "16     2020-06-25T12:39:54+02:00  1593081594  83\n",
       "17     2020-06-25T12:40:38+02:00  1593081638  19\n",
       "18     2020-06-25T12:41:08+02:00  1593081668  66\n",
       "19     2020-06-25T12:41:53+02:00  1593081713  17\n",
       "20     2020-06-25T12:42:53+02:00  1593081773  58\n",
       "21     2020-06-25T12:43:22+02:00  1593081802  10\n",
       "22     2020-06-25T12:43:54+02:00  1593081834  69\n",
       "23     2020-06-25T12:44:25+02:00  1593081865  21\n",
       "24     2020-06-25T12:45:09+02:00  1593081909  40\n",
       "25     2020-06-25T12:45:53+02:00  1593081953  35\n",
       "26     2020-06-25T12:46:39+02:00  1593081999  47\n",
       "27     2020-06-25T12:46:54+02:00  1593082014  53\n",
       "28     2020-06-25T12:47:38+02:00  1593082058  12\n",
       "29     2020-06-25T12:48:08+02:00  1593082088   8\n",
       "...                          ...         ...  ..\n",
       "24970  2020-07-06T10:11:59+02:00  1594023119  26\n",
       "24971  2020-07-06T10:12:44+02:00  1594023164   6\n",
       "24972  2020-07-06T10:13:15+02:00  1594023195  75\n",
       "24973  2020-07-06T10:13:30+02:00  1594023210  22\n",
       "24974  2020-07-06T10:14:29+02:00  1594023269  60\n",
       "24975  2020-07-06T10:15:02+02:00  1594023302  69\n",
       "24976  2020-07-06T10:15:29+02:00  1594023329  29\n",
       "24977  2020-07-06T10:16:30+02:00  1594023390  57\n",
       "24978  2020-07-06T10:16:45+02:00  1594023405  35\n",
       "24979  2020-07-06T10:17:14+02:00  1594023434  11\n",
       "24980  2020-07-06T10:18:14+02:00  1594023494  17\n",
       "24981  2020-07-06T10:18:59+02:00  1594023539   4\n",
       "24982  2020-07-06T10:19:14+02:00  1594023554   7\n",
       "24983  2020-07-06T10:20:14+02:00  1594023614   5\n",
       "24984  2020-07-06T10:20:45+02:00  1594023645  28\n",
       "24985  2020-07-06T10:21:30+02:00  1594023690  28\n",
       "24986  2020-07-06T10:21:44+02:00  1594023704   3\n",
       "24987  2020-07-06T10:22:44+02:00  1594023764   4\n",
       "24988  2020-07-06T10:23:15+02:00  1594023795  13\n",
       "24989  2020-07-06T10:23:45+02:00  1594023825  62\n",
       "24990  2020-07-06T10:24:29+02:00  1594023869   5\n",
       "24991  2020-07-06T10:25:15+02:00  1594023915  83\n",
       "24992  2020-07-06T10:25:30+02:00  1594023930  40\n",
       "24993  2020-07-06T10:26:00+02:00  1594023960  48\n",
       "24994  2020-07-06T10:26:45+02:00  1594024005  30\n",
       "24995  2020-07-06T10:27:15+02:00  1594024035  68\n",
       "24996  2020-07-06T10:28:15+02:00  1594024095  46\n",
       "24997  2020-07-06T10:28:44+02:00  1594024124   5\n",
       "24998  2020-07-06T10:29:14+02:00  1594024154  16\n",
       "24999  2020-07-06T10:29:59+02:00  1594024199  15\n",
       "\n",
       "[25000 rows x 3 columns]"
      ]
     },
     "execution_count": 3,
     "metadata": {},
     "output_type": "execute_result"
    }
   ],
   "source": [
    "df"
   ]
  },
  {
   "cell_type": "markdown",
   "metadata": {},
   "source": [
    "What do we have here? Which __data types__?"
   ]
  },
  {
   "cell_type": "code",
   "execution_count": 4,
   "metadata": {},
   "outputs": [
    {
     "data": {
      "text/plain": [
       "ts     object\n",
       "uts     int64\n",
       "v       int64\n",
       "dtype: object"
      ]
     },
     "execution_count": 4,
     "metadata": {},
     "output_type": "execute_result"
    }
   ],
   "source": [
    "df.dtypes"
   ]
  },
  {
   "cell_type": "markdown",
   "metadata": {},
   "source": [
    "I'd like to change that."
   ]
  },
  {
   "cell_type": "code",
   "execution_count": 6,
   "metadata": {},
   "outputs": [],
   "source": [
    "df['ts'] = pd.to_datetime(df['uts'], unit='s')"
   ]
  },
  {
   "cell_type": "code",
   "execution_count": 8,
   "metadata": {},
   "outputs": [
    {
     "data": {
      "text/plain": [
       "ts     datetime64[ns]\n",
       "uts             int64\n",
       "v               int64\n",
       "dtype: object"
      ]
     },
     "execution_count": 8,
     "metadata": {},
     "output_type": "execute_result"
    }
   ],
   "source": [
    "df.dtypes"
   ]
  },
  {
   "cell_type": "markdown",
   "metadata": {},
   "source": [
    "Indexes play a major role everywhere, even in pandas. "
   ]
  },
  {
   "cell_type": "code",
   "execution_count": 9,
   "metadata": {},
   "outputs": [],
   "source": [
    "df = df.set_index('ts')"
   ]
  },
  {
   "cell_type": "markdown",
   "metadata": {},
   "source": [
    "No longer necessary... drop it."
   ]
  },
  {
   "cell_type": "code",
   "execution_count": 10,
   "metadata": {},
   "outputs": [],
   "source": [
    "df = df.drop(['uts'], axis=1)"
   ]
  },
  {
   "cell_type": "markdown",
   "metadata": {},
   "source": [
    "Just for safety, we narrow down the time frame. "
   ]
  },
  {
   "cell_type": "code",
   "execution_count": 11,
   "metadata": {},
   "outputs": [],
   "source": [
    "df = df.loc['2020-06-01':'2020-07-30']"
   ]
  },
  {
   "cell_type": "markdown",
   "metadata": {},
   "source": [
    "So, what have we got here now?"
   ]
  },
  {
   "cell_type": "code",
   "execution_count": 12,
   "metadata": {},
   "outputs": [
    {
     "data": {
      "text/html": [
       "<div>\n",
       "<style scoped>\n",
       "    .dataframe tbody tr th:only-of-type {\n",
       "        vertical-align: middle;\n",
       "    }\n",
       "\n",
       "    .dataframe tbody tr th {\n",
       "        vertical-align: top;\n",
       "    }\n",
       "\n",
       "    .dataframe thead th {\n",
       "        text-align: right;\n",
       "    }\n",
       "</style>\n",
       "<table border=\"1\" class=\"dataframe\">\n",
       "  <thead>\n",
       "    <tr style=\"text-align: right;\">\n",
       "      <th></th>\n",
       "      <th>v</th>\n",
       "    </tr>\n",
       "  </thead>\n",
       "  <tbody>\n",
       "    <tr>\n",
       "      <th>count</th>\n",
       "      <td>24996.000000</td>\n",
       "    </tr>\n",
       "    <tr>\n",
       "      <th>mean</th>\n",
       "      <td>22.318931</td>\n",
       "    </tr>\n",
       "    <tr>\n",
       "      <th>std</th>\n",
       "      <td>20.670549</td>\n",
       "    </tr>\n",
       "    <tr>\n",
       "      <th>min</th>\n",
       "      <td>0.000000</td>\n",
       "    </tr>\n",
       "    <tr>\n",
       "      <th>25%</th>\n",
       "      <td>5.000000</td>\n",
       "    </tr>\n",
       "    <tr>\n",
       "      <th>50%</th>\n",
       "      <td>17.000000</td>\n",
       "    </tr>\n",
       "    <tr>\n",
       "      <th>75%</th>\n",
       "      <td>31.000000</td>\n",
       "    </tr>\n",
       "    <tr>\n",
       "      <th>max</th>\n",
       "      <td>100.000000</td>\n",
       "    </tr>\n",
       "  </tbody>\n",
       "</table>\n",
       "</div>"
      ],
      "text/plain": [
       "                  v\n",
       "count  24996.000000\n",
       "mean      22.318931\n",
       "std       20.670549\n",
       "min        0.000000\n",
       "25%        5.000000\n",
       "50%       17.000000\n",
       "75%       31.000000\n",
       "max      100.000000"
      ]
     },
     "execution_count": 12,
     "metadata": {},
     "output_type": "execute_result"
    }
   ],
   "source": [
    "df.describe()"
   ]
  },
  {
   "cell_type": "markdown",
   "metadata": {},
   "source": [
    "That's interesting. What can we conclude from that?"
   ]
  },
  {
   "cell_type": "markdown",
   "metadata": {},
   "source": [
    "What kind of data is this? What kind of business is behind it?"
   ]
  },
  {
   "cell_type": "markdown",
   "metadata": {},
   "source": [
    "We have a __chain store__ here. What about opening hours?"
   ]
  },
  {
   "cell_type": "code",
   "execution_count": 13,
   "metadata": {},
   "outputs": [
    {
     "data": {
      "text/plain": [
       "Int64Index([3, 3, 3, 3, 3, 3, 3, 3, 3, 3,\n",
       "            ...\n",
       "            0, 0, 0, 0, 0, 0, 0, 0, 0, 0],\n",
       "           dtype='int64', name='ts', length=24996)"
      ]
     },
     "execution_count": 13,
     "metadata": {},
     "output_type": "execute_result"
    }
   ],
   "source": [
    "df.index.dayofweek # Monday = 0 - Sunday = 6"
   ]
  },
  {
   "cell_type": "markdown",
   "metadata": {},
   "source": [
    "Okay, let's go draw something. We use matplotlib.pyplot for this."
   ]
  },
  {
   "cell_type": "code",
   "execution_count": 14,
   "metadata": {},
   "outputs": [
    {
     "data": {
      "text/plain": [
       "<Figure size 2500x700 with 1 Axes>"
      ]
     },
     "metadata": {},
     "output_type": "display_data"
    }
   ],
   "source": [
    "import matplotlib.dates as mdates\n",
    "import matplotlib.pyplot as plt\n",
    "\n",
    "ax = df.plot(x_compat=True, figsize=(25, 7))\n",
    "ax.xaxis.set_major_locator(mdates.DayLocator())\n",
    "plt.show()"
   ]
  },
  {
   "cell_type": "markdown",
   "metadata": {},
   "source": [
    "Well, complex to see here. Are there clusters? For an overview a histogram will help us. And we'll divide it into Mon-Fri and Sun. "
   ]
  },
  {
   "cell_type": "code",
   "execution_count": 16,
   "metadata": {},
   "outputs": [
    {
     "data": {
      "image/png": "[encoded data removed]",
      "text/plain": [
       "<Figure size 720x432 with 1 Axes>"
      ]
     },
     "metadata": {
      "needs_background": "light"
     },
     "output_type": "display_data"
    }
   ],
   "source": [
    "a = df.loc[df.index.dayofweek != 6, 'v']\n",
    "b = df.loc[df.index.dayofweek == 6,'v']\n",
    "plt.figure(figsize=(10, 6))\n",
    "plt.hist(a, bins = 100, alpha=0.5, label='Mo-Sa')\n",
    "plt.hist(b, bins = 100, alpha=0.5, label='So')\n",
    "plt.legend(loc='upper right')\n",
    "plt.show();"
   ]
  },
  {
   "cell_type": "markdown",
   "metadata": {},
   "source": [
    "Okay, let's talk about this for a second because this kind of thing always surprises people. "
   ]
  },
  {
   "cell_type": "markdown",
   "metadata": {},
   "source": [
    "### Let's get closer to clusters"
   ]
  },
  {
   "cell_type": "markdown",
   "metadata": {},
   "source": [
    "Let's just look at the morning. "
   ]
  },
  {
   "cell_type": "code",
   "execution_count": 17,
   "metadata": {},
   "outputs": [
    {
     "data": {
      "text/html": [
       "<div>\n",
       "<style scoped>\n",
       "    .dataframe tbody tr th:only-of-type {\n",
       "        vertical-align: middle;\n",
       "    }\n",
       "\n",
       "    .dataframe tbody tr th {\n",
       "        vertical-align: top;\n",
       "    }\n",
       "\n",
       "    .dataframe thead th {\n",
       "        text-align: right;\n",
       "    }\n",
       "</style>\n",
       "<table border=\"1\" class=\"dataframe\">\n",
       "  <thead>\n",
       "    <tr style=\"text-align: right;\">\n",
       "      <th></th>\n",
       "      <th>v</th>\n",
       "    </tr>\n",
       "    <tr>\n",
       "      <th>ts</th>\n",
       "      <th></th>\n",
       "    </tr>\n",
       "  </thead>\n",
       "  <tbody>\n",
       "    <tr>\n",
       "      <th>2020-06-26 06:00:08</th>\n",
       "      <td>26</td>\n",
       "    </tr>\n",
       "    <tr>\n",
       "      <th>2020-06-26 06:01:09</th>\n",
       "      <td>40</td>\n",
       "    </tr>\n",
       "    <tr>\n",
       "      <th>2020-06-26 06:01:39</th>\n",
       "      <td>16</td>\n",
       "    </tr>\n",
       "    <tr>\n",
       "      <th>2020-06-26 06:01:54</th>\n",
       "      <td>31</td>\n",
       "    </tr>\n",
       "    <tr>\n",
       "      <th>2020-06-26 06:02:54</th>\n",
       "      <td>23</td>\n",
       "    </tr>\n",
       "    <tr>\n",
       "      <th>2020-06-26 06:03:40</th>\n",
       "      <td>37</td>\n",
       "    </tr>\n",
       "    <tr>\n",
       "      <th>2020-06-26 06:04:08</th>\n",
       "      <td>11</td>\n",
       "    </tr>\n",
       "    <tr>\n",
       "      <th>2020-06-26 06:04:24</th>\n",
       "      <td>21</td>\n",
       "    </tr>\n",
       "    <tr>\n",
       "      <th>2020-06-26 06:05:09</th>\n",
       "      <td>32</td>\n",
       "    </tr>\n",
       "    <tr>\n",
       "      <th>2020-06-26 06:05:39</th>\n",
       "      <td>22</td>\n",
       "    </tr>\n",
       "    <tr>\n",
       "      <th>2020-06-26 06:06:39</th>\n",
       "      <td>31</td>\n",
       "    </tr>\n",
       "    <tr>\n",
       "      <th>2020-06-26 06:07:23</th>\n",
       "      <td>11</td>\n",
       "    </tr>\n",
       "    <tr>\n",
       "      <th>2020-06-26 06:07:54</th>\n",
       "      <td>12</td>\n",
       "    </tr>\n",
       "    <tr>\n",
       "      <th>2020-06-26 06:08:24</th>\n",
       "      <td>6</td>\n",
       "    </tr>\n",
       "    <tr>\n",
       "      <th>2020-06-26 06:08:57</th>\n",
       "      <td>25</td>\n",
       "    </tr>\n",
       "    <tr>\n",
       "      <th>2020-06-26 06:09:39</th>\n",
       "      <td>8</td>\n",
       "    </tr>\n",
       "    <tr>\n",
       "      <th>2020-06-26 06:10:24</th>\n",
       "      <td>14</td>\n",
       "    </tr>\n",
       "    <tr>\n",
       "      <th>2020-06-26 06:11:09</th>\n",
       "      <td>26</td>\n",
       "    </tr>\n",
       "    <tr>\n",
       "      <th>2020-06-26 06:11:39</th>\n",
       "      <td>9</td>\n",
       "    </tr>\n",
       "    <tr>\n",
       "      <th>2020-06-26 06:12:09</th>\n",
       "      <td>16</td>\n",
       "    </tr>\n",
       "    <tr>\n",
       "      <th>2020-06-26 06:12:54</th>\n",
       "      <td>11</td>\n",
       "    </tr>\n",
       "    <tr>\n",
       "      <th>2020-06-26 06:13:39</th>\n",
       "      <td>16</td>\n",
       "    </tr>\n",
       "    <tr>\n",
       "      <th>2020-06-26 06:14:09</th>\n",
       "      <td>39</td>\n",
       "    </tr>\n",
       "    <tr>\n",
       "      <th>2020-06-26 06:14:54</th>\n",
       "      <td>26</td>\n",
       "    </tr>\n",
       "    <tr>\n",
       "      <th>2020-06-26 06:15:09</th>\n",
       "      <td>54</td>\n",
       "    </tr>\n",
       "    <tr>\n",
       "      <th>2020-06-26 06:15:54</th>\n",
       "      <td>58</td>\n",
       "    </tr>\n",
       "    <tr>\n",
       "      <th>2020-06-26 06:16:25</th>\n",
       "      <td>36</td>\n",
       "    </tr>\n",
       "    <tr>\n",
       "      <th>2020-06-26 06:16:54</th>\n",
       "      <td>27</td>\n",
       "    </tr>\n",
       "    <tr>\n",
       "      <th>2020-06-26 06:17:54</th>\n",
       "      <td>49</td>\n",
       "    </tr>\n",
       "    <tr>\n",
       "      <th>2020-06-26 06:18:09</th>\n",
       "      <td>27</td>\n",
       "    </tr>\n",
       "    <tr>\n",
       "      <th>...</th>\n",
       "      <td>...</td>\n",
       "    </tr>\n",
       "    <tr>\n",
       "      <th>2020-07-06 08:11:59</th>\n",
       "      <td>26</td>\n",
       "    </tr>\n",
       "    <tr>\n",
       "      <th>2020-07-06 08:12:44</th>\n",
       "      <td>6</td>\n",
       "    </tr>\n",
       "    <tr>\n",
       "      <th>2020-07-06 08:13:15</th>\n",
       "      <td>75</td>\n",
       "    </tr>\n",
       "    <tr>\n",
       "      <th>2020-07-06 08:13:30</th>\n",
       "      <td>22</td>\n",
       "    </tr>\n",
       "    <tr>\n",
       "      <th>2020-07-06 08:14:29</th>\n",
       "      <td>60</td>\n",
       "    </tr>\n",
       "    <tr>\n",
       "      <th>2020-07-06 08:15:02</th>\n",
       "      <td>69</td>\n",
       "    </tr>\n",
       "    <tr>\n",
       "      <th>2020-07-06 08:15:29</th>\n",
       "      <td>29</td>\n",
       "    </tr>\n",
       "    <tr>\n",
       "      <th>2020-07-06 08:16:30</th>\n",
       "      <td>57</td>\n",
       "    </tr>\n",
       "    <tr>\n",
       "      <th>2020-07-06 08:16:45</th>\n",
       "      <td>35</td>\n",
       "    </tr>\n",
       "    <tr>\n",
       "      <th>2020-07-06 08:17:14</th>\n",
       "      <td>11</td>\n",
       "    </tr>\n",
       "    <tr>\n",
       "      <th>2020-07-06 08:18:14</th>\n",
       "      <td>17</td>\n",
       "    </tr>\n",
       "    <tr>\n",
       "      <th>2020-07-06 08:18:59</th>\n",
       "      <td>4</td>\n",
       "    </tr>\n",
       "    <tr>\n",
       "      <th>2020-07-06 08:19:14</th>\n",
       "      <td>7</td>\n",
       "    </tr>\n",
       "    <tr>\n",
       "      <th>2020-07-06 08:20:14</th>\n",
       "      <td>5</td>\n",
       "    </tr>\n",
       "    <tr>\n",
       "      <th>2020-07-06 08:20:45</th>\n",
       "      <td>28</td>\n",
       "    </tr>\n",
       "    <tr>\n",
       "      <th>2020-07-06 08:21:30</th>\n",
       "      <td>28</td>\n",
       "    </tr>\n",
       "    <tr>\n",
       "      <th>2020-07-06 08:21:44</th>\n",
       "      <td>3</td>\n",
       "    </tr>\n",
       "    <tr>\n",
       "      <th>2020-07-06 08:22:44</th>\n",
       "      <td>4</td>\n",
       "    </tr>\n",
       "    <tr>\n",
       "      <th>2020-07-06 08:23:15</th>\n",
       "      <td>13</td>\n",
       "    </tr>\n",
       "    <tr>\n",
       "      <th>2020-07-06 08:23:45</th>\n",
       "      <td>62</td>\n",
       "    </tr>\n",
       "    <tr>\n",
       "      <th>2020-07-06 08:24:29</th>\n",
       "      <td>5</td>\n",
       "    </tr>\n",
       "    <tr>\n",
       "      <th>2020-07-06 08:25:15</th>\n",
       "      <td>83</td>\n",
       "    </tr>\n",
       "    <tr>\n",
       "      <th>2020-07-06 08:25:30</th>\n",
       "      <td>40</td>\n",
       "    </tr>\n",
       "    <tr>\n",
       "      <th>2020-07-06 08:26:00</th>\n",
       "      <td>48</td>\n",
       "    </tr>\n",
       "    <tr>\n",
       "      <th>2020-07-06 08:26:45</th>\n",
       "      <td>30</td>\n",
       "    </tr>\n",
       "    <tr>\n",
       "      <th>2020-07-06 08:27:15</th>\n",
       "      <td>68</td>\n",
       "    </tr>\n",
       "    <tr>\n",
       "      <th>2020-07-06 08:28:15</th>\n",
       "      <td>46</td>\n",
       "    </tr>\n",
       "    <tr>\n",
       "      <th>2020-07-06 08:28:44</th>\n",
       "      <td>5</td>\n",
       "    </tr>\n",
       "    <tr>\n",
       "      <th>2020-07-06 08:29:14</th>\n",
       "      <td>16</td>\n",
       "    </tr>\n",
       "    <tr>\n",
       "      <th>2020-07-06 08:29:59</th>\n",
       "      <td>15</td>\n",
       "    </tr>\n",
       "  </tbody>\n",
       "</table>\n",
       "<p>4054 rows × 1 columns</p>\n",
       "</div>"
      ],
      "text/plain": [
       "                      v\n",
       "ts                     \n",
       "2020-06-26 06:00:08  26\n",
       "2020-06-26 06:01:09  40\n",
       "2020-06-26 06:01:39  16\n",
       "2020-06-26 06:01:54  31\n",
       "2020-06-26 06:02:54  23\n",
       "2020-06-26 06:03:40  37\n",
       "2020-06-26 06:04:08  11\n",
       "2020-06-26 06:04:24  21\n",
       "2020-06-26 06:05:09  32\n",
       "2020-06-26 06:05:39  22\n",
       "2020-06-26 06:06:39  31\n",
       "2020-06-26 06:07:23  11\n",
       "2020-06-26 06:07:54  12\n",
       "2020-06-26 06:08:24   6\n",
       "2020-06-26 06:08:57  25\n",
       "2020-06-26 06:09:39   8\n",
       "2020-06-26 06:10:24  14\n",
       "2020-06-26 06:11:09  26\n",
       "2020-06-26 06:11:39   9\n",
       "2020-06-26 06:12:09  16\n",
       "2020-06-26 06:12:54  11\n",
       "2020-06-26 06:13:39  16\n",
       "2020-06-26 06:14:09  39\n",
       "2020-06-26 06:14:54  26\n",
       "2020-06-26 06:15:09  54\n",
       "2020-06-26 06:15:54  58\n",
       "2020-06-26 06:16:25  36\n",
       "2020-06-26 06:16:54  27\n",
       "2020-06-26 06:17:54  49\n",
       "2020-06-26 06:18:09  27\n",
       "...                  ..\n",
       "2020-07-06 08:11:59  26\n",
       "2020-07-06 08:12:44   6\n",
       "2020-07-06 08:13:15  75\n",
       "2020-07-06 08:13:30  22\n",
       "2020-07-06 08:14:29  60\n",
       "2020-07-06 08:15:02  69\n",
       "2020-07-06 08:15:29  29\n",
       "2020-07-06 08:16:30  57\n",
       "2020-07-06 08:16:45  35\n",
       "2020-07-06 08:17:14  11\n",
       "2020-07-06 08:18:14  17\n",
       "2020-07-06 08:18:59   4\n",
       "2020-07-06 08:19:14   7\n",
       "2020-07-06 08:20:14   5\n",
       "2020-07-06 08:20:45  28\n",
       "2020-07-06 08:21:30  28\n",
       "2020-07-06 08:21:44   3\n",
       "2020-07-06 08:22:44   4\n",
       "2020-07-06 08:23:15  13\n",
       "2020-07-06 08:23:45  62\n",
       "2020-07-06 08:24:29   5\n",
       "2020-07-06 08:25:15  83\n",
       "2020-07-06 08:25:30  40\n",
       "2020-07-06 08:26:00  48\n",
       "2020-07-06 08:26:45  30\n",
       "2020-07-06 08:27:15  68\n",
       "2020-07-06 08:28:15  46\n",
       "2020-07-06 08:28:44   5\n",
       "2020-07-06 08:29:14  16\n",
       "2020-07-06 08:29:59  15\n",
       "\n",
       "[4054 rows x 1 columns]"
      ]
     },
     "execution_count": 17,
     "metadata": {},
     "output_type": "execute_result"
    }
   ],
   "source": [
    "df[(df.index.hour >= 6) & (df.index.hour <= 9)]"
   ]
  },
  {
   "cell_type": "markdown",
   "metadata": {},
   "source": [
    "Not really straightforward, but pandas has cool features. Add plot to get a plot."
   ]
  },
  {
   "cell_type": "code",
   "execution_count": 18,
   "metadata": {},
   "outputs": [
    {
     "data": {
      "text/plain": [
       "<matplotlib.axes._subplots.AxesSubplot at 0x18d08012198>"
      ]
     },
     "execution_count": 18,
     "metadata": {},
     "output_type": "execute_result"
    },
    {
     "data": {
      "image/png": "[encoded data removed]",
      "text/plain": [
       "<Figure size 432x288 with 1 Axes>"
      ]
     },
     "metadata": {
      "needs_background": "light"
     },
     "output_type": "display_data"
    }
   ],
   "source": [
    "df[(df.index.hour >= 6) & (df.index.hour <= 9)].plot()"
   ]
  },
  {
   "cell_type": "markdown",
   "metadata": {},
   "source": [
    "We can work with that. Let's just make the time range smaller. "
   ]
  },
  {
   "cell_type": "code",
   "execution_count": 19,
   "metadata": {},
   "outputs": [
    {
     "data": {
      "text/plain": [
       "<matplotlib.axes._subplots.AxesSubplot at 0x18d082d6080>"
      ]
     },
     "execution_count": 19,
     "metadata": {},
     "output_type": "execute_result"
    },
    {
     "data": {
      "image/png": "[encoded data removed]",
      "text/plain": [
       "<Figure size 432x288 with 1 Axes>"
      ]
     },
     "metadata": {
      "needs_background": "light"
     },
     "output_type": "display_data"
    }
   ],
   "source": [
    "df[(df.index.hour == 6) & (df.index.minute >=0) & (df.index.minute <=15)].plot()"
   ]
  },
  {
   "cell_type": "markdown",
   "metadata": {},
   "source": [
    "Let's save that for later. "
   ]
  },
  {
   "cell_type": "code",
   "execution_count": 20,
   "metadata": {},
   "outputs": [
    {
     "data": {
      "text/html": [
       "<div>\n",
       "<style scoped>\n",
       "    .dataframe tbody tr th:only-of-type {\n",
       "        vertical-align: middle;\n",
       "    }\n",
       "\n",
       "    .dataframe tbody tr th {\n",
       "        vertical-align: top;\n",
       "    }\n",
       "\n",
       "    .dataframe thead th {\n",
       "        text-align: right;\n",
       "    }\n",
       "</style>\n",
       "<table border=\"1\" class=\"dataframe\">\n",
       "  <thead>\n",
       "    <tr style=\"text-align: right;\">\n",
       "      <th></th>\n",
       "      <th>v</th>\n",
       "    </tr>\n",
       "  </thead>\n",
       "  <tbody>\n",
       "    <tr>\n",
       "      <th>count</th>\n",
       "      <td>281.000000</td>\n",
       "    </tr>\n",
       "    <tr>\n",
       "      <th>mean</th>\n",
       "      <td>22.960854</td>\n",
       "    </tr>\n",
       "    <tr>\n",
       "      <th>std</th>\n",
       "      <td>17.212596</td>\n",
       "    </tr>\n",
       "    <tr>\n",
       "      <th>min</th>\n",
       "      <td>1.000000</td>\n",
       "    </tr>\n",
       "    <tr>\n",
       "      <th>25%</th>\n",
       "      <td>11.000000</td>\n",
       "    </tr>\n",
       "    <tr>\n",
       "      <th>50%</th>\n",
       "      <td>19.000000</td>\n",
       "    </tr>\n",
       "    <tr>\n",
       "      <th>75%</th>\n",
       "      <td>31.000000</td>\n",
       "    </tr>\n",
       "    <tr>\n",
       "      <th>max</th>\n",
       "      <td>92.000000</td>\n",
       "    </tr>\n",
       "  </tbody>\n",
       "</table>\n",
       "</div>"
      ],
      "text/plain": [
       "                v\n",
       "count  281.000000\n",
       "mean    22.960854\n",
       "std     17.212596\n",
       "min      1.000000\n",
       "25%     11.000000\n",
       "50%     19.000000\n",
       "75%     31.000000\n",
       "max     92.000000"
      ]
     },
     "execution_count": 20,
     "metadata": {},
     "output_type": "execute_result"
    }
   ],
   "source": [
    "df1 = df[(df.index.hour == 6) & (df.index.minute >=0) & (df.index.minute <=15)]\n",
    "df1.describe()"
   ]
  },
  {
   "cell_type": "markdown",
   "metadata": {},
   "source": [
    "Now what does a histogram look like?"
   ]
  },
  {
   "cell_type": "code",
   "execution_count": 21,
   "metadata": {},
   "outputs": [
    {
     "data": {
      "text/plain": [
       "array([[<matplotlib.axes._subplots.AxesSubplot object at 0x0000018D083E8710>]],\n",
       "      dtype=object)"
      ]
     },
     "execution_count": 21,
     "metadata": {},
     "output_type": "execute_result"
    },
    {
     "data": {
      "image/png": "[encoded data removed]",
      "text/plain": [
       "<Figure size 432x288 with 1 Axes>"
      ]
     },
     "metadata": {
      "needs_background": "light"
     },
     "output_type": "display_data"
    }
   ],
   "source": [
    "df1.hist(bins=50)"
   ]
  },
  {
   "cell_type": "code",
   "execution_count": 22,
   "metadata": {},
   "outputs": [
    {
     "data": {
      "image/png": "[encoded data removed]",
      "text/plain": [
       "<Figure size 720x432 with 1 Axes>"
      ]
     },
     "metadata": {
      "needs_background": "light"
     },
     "output_type": "display_data"
    }
   ],
   "source": [
    "a = df1.loc[df1.index.dayofweek != 6, 'v']\n",
    "b = df1.loc[df1.index.dayofweek == 6, 'v']\n",
    "plt.figure(figsize=(10, 6))\n",
    "plt.hist(a, bins = 50, alpha=0.5, label='Mo-Sa')\n",
    "plt.hist(b, bins = 50, alpha=0.5, label='So')\n",
    "plt.legend(loc='upper right')\n",
    "plt.show();"
   ]
  },
  {
   "cell_type": "markdown",
   "metadata": {},
   "source": [
    "## At last! Machine Learning..."
   ]
  },
  {
   "cell_type": "markdown",
   "metadata": {},
   "source": [
    "We will use the super weapon sklearn."
   ]
  },
  {
   "cell_type": "code",
   "execution_count": 23,
   "metadata": {},
   "outputs": [
    {
     "data": {
      "image/png": "[encoded data removed]",
      "text/plain": [
       "<Figure size 720x432 with 1 Axes>"
      ]
     },
     "metadata": {
      "needs_background": "light"
     },
     "output_type": "display_data"
    }
   ],
   "source": [
    "from sklearn.cluster import KMeans\n",
    "\n",
    "data = df1[['v']]\n",
    "n_cluster = range(1, 10)\n",
    "kmeans = [KMeans(n_clusters=i).fit(data) for i in n_cluster]\n",
    "scores = [kmeans[i].score(data) for i in range(len(kmeans))]\n",
    "\n",
    "fig, ax = plt.subplots(figsize=(10,6))\n",
    "ax.plot(n_cluster, scores)\n",
    "plt.xlabel('Number of Clusters')\n",
    "plt.ylabel('Score')\n",
    "plt.title('Elbow Curve')\n",
    "plt.show();"
   ]
  },
  {
   "cell_type": "markdown",
   "metadata": {},
   "source": [
    "Basically K-Means is not really suited for anomaly detection, but I like using it a lot because..."
   ]
  },
  {
   "cell_type": "markdown",
   "metadata": {},
   "source": [
    "If the \"number\" of ideal clusters changes, then something has changed, right? "
   ]
  },
  {
   "cell_type": "markdown",
   "metadata": {},
   "source": [
    "But let's take a look at the results. "
   ]
  },
  {
   "cell_type": "code",
   "execution_count": 24,
   "metadata": {},
   "outputs": [],
   "source": [
    "X = df1[['v']]\n",
    "X = X.reset_index(drop=True)\n",
    "\n",
    "km = KMeans(n_clusters=4) # <==\n",
    "km.fit(X)\n",
    "\n",
    "X['cluster'] = km.predict(X)\n",
    "labels = km.labels_"
   ]
  },
  {
   "cell_type": "code",
   "execution_count": 25,
   "metadata": {},
   "outputs": [
    {
     "data": {
      "text/plain": [
       "2    109\n",
       "0     82\n",
       "3     67\n",
       "1     23\n",
       "Name: cluster, dtype: int64"
      ]
     },
     "execution_count": 25,
     "metadata": {},
     "output_type": "execute_result"
    }
   ],
   "source": [
    "X['cluster'].value_counts()"
   ]
  },
  {
   "cell_type": "code",
   "execution_count": 26,
   "metadata": {},
   "outputs": [
    {
     "data": {
      "image/png": "[encoded data removed]",
      "text/plain": [
       "<Figure size 720x432 with 1 Axes>"
      ]
     },
     "metadata": {
      "needs_background": "light"
     },
     "output_type": "display_data"
    }
   ],
   "source": [
    "fig, ax = plt.subplots(figsize=(10,6))\n",
    "\n",
    "ax.scatter(df1.index, df1['v'], c=labels.astype(np.float)) # Labels... \n",
    "# plt.legend()\n",
    "plt.show();"
   ]
  },
  {
   "cell_type": "markdown",
   "metadata": {},
   "source": [
    "Oh, cool. Finally, something to show off about. Let's play with it a little. "
   ]
  },
  {
   "cell_type": "markdown",
   "metadata": {},
   "source": [
    "## And now things are getting serious."
   ]
  },
  {
   "cell_type": "code",
   "execution_count": 27,
   "metadata": {},
   "outputs": [],
   "source": [
    "from sklearn.cluster import DBSCAN\n",
    "#Density-Based Spatial Clustering of Applications with Noise :)"
   ]
  },
  {
   "cell_type": "code",
   "execution_count": 28,
   "metadata": {},
   "outputs": [],
   "source": [
    "dbscan = DBSCAN(eps = 2, min_samples = 5) # <== Yep, here... \n",
    "clusters = dbscan.fit_predict(df1)"
   ]
  },
  {
   "cell_type": "code",
   "execution_count": 29,
   "metadata": {},
   "outputs": [
    {
     "data": {
      "text/plain": [
       "v    281\n",
       "dtype: int64"
      ]
     },
     "execution_count": 29,
     "metadata": {},
     "output_type": "execute_result"
    }
   ],
   "source": [
    "df1.count()"
   ]
  },
  {
   "cell_type": "code",
   "execution_count": 30,
   "metadata": {},
   "outputs": [
    {
     "data": {
      "text/plain": [
       "v    265\n",
       "dtype: int64"
      ]
     },
     "execution_count": 30,
     "metadata": {},
     "output_type": "execute_result"
    }
   ],
   "source": [
    "df1[clusters != -1].count()"
   ]
  },
  {
   "cell_type": "code",
   "execution_count": 31,
   "metadata": {},
   "outputs": [
    {
     "data": {
      "text/plain": [
       "v    16\n",
       "dtype: int64"
      ]
     },
     "execution_count": 31,
     "metadata": {},
     "output_type": "execute_result"
    }
   ],
   "source": [
    "df1[clusters == -1].count()"
   ]
  },
  {
   "cell_type": "code",
   "execution_count": 32,
   "metadata": {},
   "outputs": [
    {
     "data": {
      "image/png": "[encoded data removed]",
      "text/plain": [
       "<Figure size 720x432 with 1 Axes>"
      ]
     },
     "metadata": {
      "needs_background": "light"
     },
     "output_type": "display_data"
    }
   ],
   "source": [
    "fig, ax = plt.subplots(figsize=(10,6))\n",
    "a = df1.loc[clusters == -1 ]\n",
    "\n",
    "ax.scatter(df1.index, df1['v'], color='blue', label='\"Normal\"') # scatter...\n",
    "ax.scatter(a.index,a['v'], color='red', label='\"Anomaly\"')\n",
    "\n",
    "plt.legend()\n",
    "plt.show();"
   ]
  },
  {
   "cell_type": "code",
   "execution_count": null,
   "metadata": {},
   "outputs": [],
   "source": []
  }
 ],
 "metadata": {
  "kernelspec": {
   "display_name": "Python 3",
   "language": "python",
   "name": "python3"
  },
  "language_info": {
   "codemirror_mode": {
    "name": "ipython",
    "version": 3
   },
   "file_extension": ".py",
   "mimetype": "text/x-python",
   "name": "python",
   "nbconvert_exporter": "python",
   "pygments_lexer": "ipython3",
   "version": "3.7.3"
  }
 },
 "nbformat": 4,
 "nbformat_minor": 2
}
